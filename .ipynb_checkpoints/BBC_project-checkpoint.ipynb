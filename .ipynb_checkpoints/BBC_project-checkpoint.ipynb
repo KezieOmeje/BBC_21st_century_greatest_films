{
 "cells": [
  {
   "cell_type": "code",
   "execution_count": 1,
   "metadata": {},
   "outputs": [],
   "source": [
    "# This project creates a database from the BBC's 21st Century greatest films"
   ]
  },
  {
   "cell_type": "code",
   "execution_count": 2,
   "metadata": {},
   "outputs": [],
   "source": [
    "import requests\n",
    "from bs4 import BeautifulSoup\n",
    "import re\n",
    "import pandas as pd\n",
    "import json\n",
    "import numpy as np\n",
    "from pandas.io.json import json_normalize\n"
   ]
  },
  {
   "cell_type": "code",
   "execution_count": 3,
   "metadata": {},
   "outputs": [],
   "source": [
    "response = requests.get('http://floatingmedia.com/columbia/BBC.html')\n",
    "doc = BeautifulSoup(response.text)"
   ]
  },
  {
   "cell_type": "code",
   "execution_count": 4,
   "metadata": {},
   "outputs": [],
   "source": [
    "all_info = doc.find('div', class_='body-content')"
   ]
  },
  {
   "cell_type": "code",
   "execution_count": 5,
   "metadata": {},
   "outputs": [],
   "source": [
    "all_p = doc.find_all('p')\n",
    "for item in all_p:\n",
    "    if 'strong' in str(item):\n",
    "        critic_info = item.text\n",
    "        movie_info = item.next_sibling"
   ]
  },
  {
   "cell_type": "code",
   "execution_count": 6,
   "metadata": {},
   "outputs": [
    {
     "name": "stdout",
     "output_type": "stream",
     "text": [
      "More on BBC Culture’s 100 greatest films of the 21st Century:The list in full: The 100 greatest films since 2000Surprising facts from the 100 greatest films of the 21st CenturyWhat the critics had to say about the top 25Why Mulholland Drive is number oneAre we living in a golden age of film?\n"
     ]
    }
   ],
   "source": [
    "all_p = doc.find_all('p')\n",
    "for item in all_p:\n",
    "    if 'strong' in str(item):\n",
    "        try:\n",
    "            critic_info = item.text\n",
    "            regex_for_name = re.findall(r\"(.*) –\", critic_info)[0]\n",
    "            regex_for_org = re.findall(r\"–\\s(.*)\\s\\(\", critic_info)[0]\n",
    "            regex_for_cn = re.findall(r\"\\((.*)\\)\", critic_info)[0]\n",
    "        except:\n",
    "            print(critic_info)"
   ]
  },
  {
   "cell_type": "code",
   "execution_count": 7,
   "metadata": {},
   "outputs": [
    {
     "name": "stdout",
     "output_type": "stream",
     "text": [
      "<p><em>If you would like to comment on this story or anything else you have seen on BBC Culture, head over to our <a href=\"https://www.facebook.com/BBCCulture/\" target=\"_blank\">Facebook</a> page or message us on <a href=\"https://twitter.com/BBC_Culture\" target=\"_blank\">Twitter</a>.</em></p>\n",
      "<p><em>If you would like to comment on this story or anything else you have seen on BBC Culture, head over to our <a href=\"https://www.facebook.com/BBCCulture/\" target=\"_blank\">Facebook</a> page or message us on <a href=\"https://twitter.com/BBC_Culture\" target=\"_blank\">Twitter</a>.</em></p>\n",
      "<p><em>If you would like to comment on this story or anything else you have seen on BBC Culture, head over to our <a href=\"https://www.facebook.com/BBCCulture/\" target=\"_blank\">Facebook</a> page or message us on <a href=\"https://twitter.com/BBC_Culture\" target=\"_blank\">Twitter</a>.</em></p>\n",
      "<p><em>If you would like to comment on this story or anything else you have seen on BBC Culture, head over to our <a href=\"https://www.facebook.com/BBCCulture/\" target=\"_blank\">Facebook</a> page or message us on <a href=\"https://twitter.com/BBC_Culture\" target=\"_blank\">Twitter</a>.</em></p>\n",
      "<p><em>If you would like to comment on this story or anything else you have seen on BBC Culture, head over to our <a href=\"https://www.facebook.com/BBCCulture/\" target=\"_blank\">Facebook</a> page or message us on <a href=\"https://twitter.com/BBC_Culture\" target=\"_blank\">Twitter</a>.</em></p>\n"
     ]
    }
   ],
   "source": [
    "best_movies = []\n",
    "all_p = doc.find_all('p')\n",
    "for item in all_p:\n",
    "    if 'strong' in str(item):\n",
    "        movie_info = item.next_sibling\n",
    "        each_movie = movie_info.find_all(string=True)\n",
    "        for movie in each_movie:\n",
    "            try:\n",
    "                movie_rank = re.findall(r\"^(\\d0?)\\.\", movie)[0]\n",
    "                movie_name = re.findall(r\"^\\d0?.(.*)\\(\", movie)[0]\n",
    "                movie_director = re.findall(r\"\\((.*),\", movie)[0]\n",
    "                movie_year = re.findall(r\",\\s(\\d{4})\\)\",movie)[0]\n",
    "            except:\n",
    "                print(movie_info)"
   ]
  },
  {
   "cell_type": "code",
   "execution_count": 8,
   "metadata": {},
   "outputs": [
    {
     "name": "stdout",
     "output_type": "stream",
     "text": [
      "More on BBC Culture’s 100 greatest films of the 21st Century:The list in full: The 100 greatest films since 2000Surprising facts from the 100 greatest films of the 21st CenturyWhat the critics had to say about the top 25Why Mulholland Drive is number oneAre we living in a golden age of film?\n",
      "More on BBC Culture’s 100 greatest films of the 21st Century:The list in full: The 100 greatest films since 2000Surprising facts from the 100 greatest films of the 21st CenturyWhat the critics had to say about the top 25Why Mulholland Drive is number oneAre we living in a golden age of film?\n",
      "More on BBC Culture’s 100 greatest films of the 21st Century:The list in full: The 100 greatest films since 2000Surprising facts from the 100 greatest films of the 21st CenturyWhat the critics had to say about the top 25Why Mulholland Drive is number oneAre we living in a golden age of film?\n",
      "More on BBC Culture’s 100 greatest films of the 21st Century:The list in full: The 100 greatest films since 2000Surprising facts from the 100 greatest films of the 21st CenturyWhat the critics had to say about the top 25Why Mulholland Drive is number oneAre we living in a golden age of film?\n",
      "More on BBC Culture’s 100 greatest films of the 21st Century:The list in full: The 100 greatest films since 2000Surprising facts from the 100 greatest films of the 21st CenturyWhat the critics had to say about the top 25Why Mulholland Drive is number oneAre we living in a golden age of film?\n"
     ]
    }
   ],
   "source": [
    "best_movies = []\n",
    "all_p = doc.find_all('p')\n",
    "for item in all_p:\n",
    "    if 'strong' in str(item):\n",
    "        critic_info = item.text\n",
    "        movie_info = item.next_sibling\n",
    "        each_movie = movie_info.find_all(string=True)\n",
    "        for movie in each_movie:\n",
    "            movies = {}\n",
    "            try:\n",
    "                movies['regex_for_name'] = re.findall(r\"(.*) –\", critic_info)[0]\n",
    "                movies['regex_for_org'] = re.findall(r\"–\\s(.*)\\s\\(\", critic_info)[0]\n",
    "                movies['regex_for_cn'] = re.findall(r\"\\((.*)\\)\", critic_info)[0]\n",
    "                movies['movie_rank'] = re.findall(r\"^(\\d0?)\\.\", movie)[0]\n",
    "                movies['movie_name'] = re.findall(r\"^\\d0?.(.*)\\(\", movie)[0]\n",
    "                movies['movie_director'] = re.findall(r\"\\((.*),\", movie)[0]\n",
    "                movies['movie_year'] = re.findall(r\",\\s(\\d{4})\\)\",movie)[0]\n",
    "                best_movies.append(movies)\n",
    "            except:\n",
    "                print(critic_info)"
   ]
  },
  {
   "cell_type": "code",
   "execution_count": 9,
   "metadata": {},
   "outputs": [
    {
     "data": {
      "text/html": [
       "<div>\n",
       "<style scoped>\n",
       "    .dataframe tbody tr th:only-of-type {\n",
       "        vertical-align: middle;\n",
       "    }\n",
       "\n",
       "    .dataframe tbody tr th {\n",
       "        vertical-align: top;\n",
       "    }\n",
       "\n",
       "    .dataframe thead th {\n",
       "        text-align: right;\n",
       "    }\n",
       "</style>\n",
       "<table border=\"1\" class=\"dataframe\">\n",
       "  <thead>\n",
       "    <tr style=\"text-align: right;\">\n",
       "      <th></th>\n",
       "      <th>movie_director</th>\n",
       "      <th>movie_name</th>\n",
       "      <th>movie_rank</th>\n",
       "      <th>movie_year</th>\n",
       "      <th>regex_for_cn</th>\n",
       "      <th>regex_for_name</th>\n",
       "      <th>regex_for_org</th>\n",
       "    </tr>\n",
       "  </thead>\n",
       "  <tbody>\n",
       "    <tr>\n",
       "      <th>0</th>\n",
       "      <td>David Lynch</td>\n",
       "      <td>Mulholland Drive</td>\n",
       "      <td>1</td>\n",
       "      <td>2001</td>\n",
       "      <td>US</td>\n",
       "      <td>Simon Abrams</td>\n",
       "      <td>Freelance film critic</td>\n",
       "    </tr>\n",
       "    <tr>\n",
       "      <th>1</th>\n",
       "      <td>Wong Kar-wai</td>\n",
       "      <td>In the Mood for Love</td>\n",
       "      <td>2</td>\n",
       "      <td>2000</td>\n",
       "      <td>US</td>\n",
       "      <td>Simon Abrams</td>\n",
       "      <td>Freelance film critic</td>\n",
       "    </tr>\n",
       "    <tr>\n",
       "      <th>2</th>\n",
       "      <td>Terrence Malick</td>\n",
       "      <td>The Tree of Life</td>\n",
       "      <td>3</td>\n",
       "      <td>2011</td>\n",
       "      <td>US</td>\n",
       "      <td>Simon Abrams</td>\n",
       "      <td>Freelance film critic</td>\n",
       "    </tr>\n",
       "    <tr>\n",
       "      <th>3</th>\n",
       "      <td>Edward Yang</td>\n",
       "      <td>Yi Yi: A One and a Two</td>\n",
       "      <td>4</td>\n",
       "      <td>2000</td>\n",
       "      <td>US</td>\n",
       "      <td>Simon Abrams</td>\n",
       "      <td>Freelance film critic</td>\n",
       "    </tr>\n",
       "    <tr>\n",
       "      <th>4</th>\n",
       "      <td>Jean-Luc Godard</td>\n",
       "      <td>Goodbye to Language</td>\n",
       "      <td>5</td>\n",
       "      <td>2014</td>\n",
       "      <td>US</td>\n",
       "      <td>Simon Abrams</td>\n",
       "      <td>Freelance film critic</td>\n",
       "    </tr>\n",
       "  </tbody>\n",
       "</table>\n",
       "</div>"
      ],
      "text/plain": [
       "    movie_director                movie_name movie_rank movie_year  \\\n",
       "0      David Lynch         Mulholland Drive           1       2001   \n",
       "1     Wong Kar-wai     In the Mood for Love           2       2000   \n",
       "2  Terrence Malick         The Tree of Life           3       2011   \n",
       "3      Edward Yang   Yi Yi: A One and a Two           4       2000   \n",
       "4  Jean-Luc Godard      Goodbye to Language           5       2014   \n",
       "\n",
       "  regex_for_cn regex_for_name          regex_for_org  \n",
       "0           US   Simon Abrams  Freelance film critic  \n",
       "1           US   Simon Abrams  Freelance film critic  \n",
       "2           US   Simon Abrams  Freelance film critic  \n",
       "3           US   Simon Abrams  Freelance film critic  \n",
       "4           US   Simon Abrams  Freelance film critic  "
      ]
     },
     "execution_count": 9,
     "metadata": {},
     "output_type": "execute_result"
    }
   ],
   "source": [
    "df = pd.DataFrame(best_movies)\n",
    "df.head()"
   ]
  },
  {
   "cell_type": "code",
   "execution_count": 10,
   "metadata": {},
   "outputs": [],
   "source": [
    "df.columns = ['director', 'movie', 'rank', 'year', 'critic_cn', 'critic', 'critic_org']"
   ]
  },
  {
   "cell_type": "code",
   "execution_count": 11,
   "metadata": {},
   "outputs": [],
   "source": [
    "df.to_csv('BBC_greatest_films.csv', index=False)"
   ]
  },
  {
   "cell_type": "code",
   "execution_count": 12,
   "metadata": {},
   "outputs": [
    {
     "data": {
      "text/html": [
       "<div>\n",
       "<style scoped>\n",
       "    .dataframe tbody tr th:only-of-type {\n",
       "        vertical-align: middle;\n",
       "    }\n",
       "\n",
       "    .dataframe tbody tr th {\n",
       "        vertical-align: top;\n",
       "    }\n",
       "\n",
       "    .dataframe thead th {\n",
       "        text-align: right;\n",
       "    }\n",
       "</style>\n",
       "<table border=\"1\" class=\"dataframe\">\n",
       "  <thead>\n",
       "    <tr style=\"text-align: right;\">\n",
       "      <th></th>\n",
       "      <th>director</th>\n",
       "      <th>movie</th>\n",
       "      <th>rank</th>\n",
       "      <th>year</th>\n",
       "      <th>critic_cn</th>\n",
       "      <th>critic</th>\n",
       "      <th>critic_org</th>\n",
       "    </tr>\n",
       "  </thead>\n",
       "  <tbody>\n",
       "    <tr>\n",
       "      <th>1765</th>\n",
       "      <td>Florian Henckel von Donnersmarck</td>\n",
       "      <td>The Lives of Others</td>\n",
       "      <td>6</td>\n",
       "      <td>2006</td>\n",
       "      <td>China</td>\n",
       "      <td>Raymond Zhou</td>\n",
       "      <td>China Daily</td>\n",
       "    </tr>\n",
       "    <tr>\n",
       "      <th>1766</th>\n",
       "      <td>Jia Zhangke</td>\n",
       "      <td>Still Life</td>\n",
       "      <td>7</td>\n",
       "      <td>2006</td>\n",
       "      <td>China</td>\n",
       "      <td>Raymond Zhou</td>\n",
       "      <td>China Daily</td>\n",
       "    </tr>\n",
       "    <tr>\n",
       "      <th>1767</th>\n",
       "      <td>Alejandro González Iñárritu</td>\n",
       "      <td>Birdman</td>\n",
       "      <td>8</td>\n",
       "      <td>2014</td>\n",
       "      <td>China</td>\n",
       "      <td>Raymond Zhou</td>\n",
       "      <td>China Daily</td>\n",
       "    </tr>\n",
       "    <tr>\n",
       "      <th>1768</th>\n",
       "      <td>Andrew Lau and Alan Mak</td>\n",
       "      <td>Infernal Affairs</td>\n",
       "      <td>9</td>\n",
       "      <td>2002</td>\n",
       "      <td>China</td>\n",
       "      <td>Raymond Zhou</td>\n",
       "      <td>China Daily</td>\n",
       "    </tr>\n",
       "    <tr>\n",
       "      <th>1769</th>\n",
       "      <td>Fernando Meirelles and Kátia Lund</td>\n",
       "      <td>City of God</td>\n",
       "      <td>10</td>\n",
       "      <td>2002</td>\n",
       "      <td>China</td>\n",
       "      <td>Raymond Zhou</td>\n",
       "      <td>China Daily</td>\n",
       "    </tr>\n",
       "  </tbody>\n",
       "</table>\n",
       "</div>"
      ],
      "text/plain": [
       "                               director                  movie  rank  year  \\\n",
       "1765   Florian Henckel von Donnersmarck   The Lives of Others      6  2006   \n",
       "1766                        Jia Zhangke            Still Life      7  2006   \n",
       "1767        Alejandro González Iñárritu               Birdman      8  2014   \n",
       "1768            Andrew Lau and Alan Mak      Infernal Affairs      9  2002   \n",
       "1769  Fernando Meirelles and Kátia Lund           City of God     10  2002   \n",
       "\n",
       "     critic_cn        critic   critic_org  \n",
       "1765     China  Raymond Zhou  China Daily  \n",
       "1766     China  Raymond Zhou  China Daily  \n",
       "1767     China  Raymond Zhou  China Daily  \n",
       "1768     China  Raymond Zhou  China Daily  \n",
       "1769     China  Raymond Zhou  China Daily  "
      ]
     },
     "execution_count": 12,
     "metadata": {},
     "output_type": "execute_result"
    }
   ],
   "source": [
    "df = pd.read_csv('BBC_greatest_films.csv')\n",
    "df.tail()"
   ]
  },
  {
   "cell_type": "code",
   "execution_count": 13,
   "metadata": {},
   "outputs": [
    {
     "data": {
      "text/plain": [
       "598"
      ]
     },
     "execution_count": 13,
     "metadata": {},
     "output_type": "execute_result"
    }
   ],
   "source": [
    "# how many movies are the list?\n",
    "\n",
    "df.groupby('movie')['movie'].nunique().sum()"
   ]
  },
  {
   "cell_type": "code",
   "execution_count": 14,
   "metadata": {},
   "outputs": [
    {
     "data": {
      "text/plain": [
       "Paul Thomas Anderson    52\n",
       "Joel and Ethan Coen     52\n",
       "Wong Kar-wai            51\n",
       "David Lynch             48\n",
       "Richard Linklater       39\n",
       "Hayao Miyazaki          35\n",
       "Michael Haneke          35\n",
       "Terrence Malick         32\n",
       "David Fincher           31\n",
       "Asghar Farhadi          31\n",
       "Name: director, dtype: int64"
      ]
     },
     "execution_count": 14,
     "metadata": {},
     "output_type": "execute_result"
    }
   ],
   "source": [
    "# top 10 film directors with most total votes\n",
    "df.director.value_counts().head(10)"
   ]
  },
  {
   "cell_type": "code",
   "execution_count": 15,
   "metadata": {},
   "outputs": [
    {
     "data": {
      "text/plain": [
       "Kleber Mendonça Filho            1\n",
       "Pietro Marcello                  1\n",
       "Scandar Copti and Yaron Shani    1\n",
       "Frederick Wiseman                1\n",
       "George Lucas                     1\n",
       "Tom Ford                         1\n",
       "Céline Sciamma                   1\n",
       "Sidney Lumet                     1\n",
       "Steven Knight                    1\n",
       "Warwick Thornton                 1\n",
       "Name: director, dtype: int64"
      ]
     },
     "execution_count": 15,
     "metadata": {},
     "output_type": "execute_result"
    }
   ],
   "source": [
    "# 10 film directors with least votes\n",
    "df.director.value_counts().tail(10)"
   ]
  },
  {
   "cell_type": "code",
   "execution_count": 16,
   "metadata": {},
   "outputs": [
    {
     "data": {
      "text/plain": [
       " In the Mood for Love                      49\n",
       " Mulholland Drive                          47\n",
       " There Will Be Blood                       35\n",
       " Spirited Away                             34\n",
       " Boyhood                                   30\n",
       " Eternal Sunshine of the Spotless Mind     29\n",
       " A Separation                              28\n",
       " The Tree of Life                          23\n",
       " Yi Yi: A One and a Two                    22\n",
       " No Country For Old Men                    21\n",
       "Name: movie, dtype: int64"
      ]
     },
     "execution_count": 16,
     "metadata": {},
     "output_type": "execute_result"
    }
   ],
   "source": [
    "# top 10 films with most votes \n",
    "\n",
    "df.movie.value_counts().head(10)"
   ]
  },
  {
   "cell_type": "code",
   "execution_count": 17,
   "metadata": {},
   "outputs": [
    {
     "data": {
      "text/plain": [
       " Evolution of a Filipino Family     1\n",
       " LSD: Love, Sex Aur Dhokha          1\n",
       " Sita Sings the Blues               1\n",
       " This Is the End                    1\n",
       " The Holy Girl                      1\n",
       " Samson & Delilah                   1\n",
       " The Skin I Live In                 1\n",
       " The Future                         1\n",
       " The Band’s Visit                   1\n",
       " The Clock                          1\n",
       "Name: movie, dtype: int64"
      ]
     },
     "execution_count": 17,
     "metadata": {},
     "output_type": "execute_result"
    }
   ],
   "source": [
    "# 10 films with least votes \n",
    "\n",
    "df.movie.value_counts().tail(10)"
   ]
  },
  {
   "cell_type": "code",
   "execution_count": 18,
   "metadata": {},
   "outputs": [
    {
     "data": {
      "text/plain": [
       "director\n",
       "Quentin Tarantino    6\n",
       "Clint Eastwood       5\n",
       "Nuri Bilge Ceylan    5\n",
       "Tsai Ming-liang      5\n",
       "Lars von Trier       4\n",
       "Name: movie, dtype: int64"
      ]
     },
     "execution_count": 18,
     "metadata": {},
     "output_type": "execute_result"
    }
   ],
   "source": [
    "# film directors with most total films\n",
    "df.groupby('director')['movie'].nunique().sort_values(ascending=False).head()"
   ]
  },
  {
   "cell_type": "code",
   "execution_count": 19,
   "metadata": {},
   "outputs": [
    {
     "data": {
      "text/plain": [
       "year\n",
       "2002    44\n",
       "2012    43\n",
       "2014    42\n",
       "2010    41\n",
       "2000    40\n",
       "Name: movie, dtype: int64"
      ]
     },
     "execution_count": 19,
     "metadata": {},
     "output_type": "execute_result"
    }
   ],
   "source": [
    "# years with most films \n",
    "\n",
    "df.groupby('year')['movie'].nunique().sort_values(ascending=False).head()"
   ]
  },
  {
   "cell_type": "code",
   "execution_count": 20,
   "metadata": {},
   "outputs": [
    {
     "data": {
      "text/plain": [
       "critic_cn\n",
       "US           82\n",
       "UK           18\n",
       "Canada        5\n",
       "Cuba          5\n",
       "France        5\n",
       "Germany       5\n",
       "India         5\n",
       "Italy         4\n",
       "Australia     4\n",
       "Colombia      4\n",
       "Name: critic, dtype: int64"
      ]
     },
     "execution_count": 20,
     "metadata": {},
     "output_type": "execute_result"
    }
   ],
   "source": [
    "# top 10 countries by critics \n",
    "\n",
    "df.groupby('critic_cn')['critic'].nunique().sort_values(ascending=False).head(10)"
   ]
  },
  {
   "cell_type": "code",
   "execution_count": 21,
   "metadata": {},
   "outputs": [
    {
     "data": {
      "text/plain": [
       "critic_cn\n",
       "Japan           1\n",
       "China           1\n",
       "Senegal         1\n",
       "Taiwan          1\n",
       "Switzerland     1\n",
       "Egypt           1\n",
       "Namibia         1\n",
       "South Africa    1\n",
       "Hong Kong       1\n",
       "Philippines     1\n",
       "Name: critic, dtype: int64"
      ]
     },
     "execution_count": 21,
     "metadata": {},
     "output_type": "execute_result"
    }
   ],
   "source": [
    "# lowest represented countries by critics \n",
    "\n",
    "df.groupby('critic_cn')['critic'].nunique().sort_values(ascending=False).tail(10)"
   ]
  },
  {
   "cell_type": "code",
   "execution_count": 22,
   "metadata": {},
   "outputs": [
    {
     "data": {
      "text/html": [
       "<div>\n",
       "<style scoped>\n",
       "    .dataframe tbody tr th:only-of-type {\n",
       "        vertical-align: middle;\n",
       "    }\n",
       "\n",
       "    .dataframe tbody tr th {\n",
       "        vertical-align: top;\n",
       "    }\n",
       "\n",
       "    .dataframe thead th {\n",
       "        text-align: right;\n",
       "    }\n",
       "</style>\n",
       "<table border=\"1\" class=\"dataframe\">\n",
       "  <thead>\n",
       "    <tr style=\"text-align: right;\">\n",
       "      <th></th>\n",
       "      <th>critic_cn</th>\n",
       "      <th>movie</th>\n",
       "      <th>count</th>\n",
       "    </tr>\n",
       "  </thead>\n",
       "  <tbody>\n",
       "    <tr>\n",
       "      <th>0</th>\n",
       "      <td>Argentina</td>\n",
       "      <td>Spirited Away</td>\n",
       "      <td>2</td>\n",
       "    </tr>\n",
       "    <tr>\n",
       "      <th>1</th>\n",
       "      <td>Argentina</td>\n",
       "      <td>Adventureland</td>\n",
       "      <td>1</td>\n",
       "    </tr>\n",
       "    <tr>\n",
       "      <th>2</th>\n",
       "      <td>Argentina</td>\n",
       "      <td>Boyhood</td>\n",
       "      <td>1</td>\n",
       "    </tr>\n",
       "    <tr>\n",
       "      <th>3</th>\n",
       "      <td>Argentina</td>\n",
       "      <td>Elephant</td>\n",
       "      <td>1</td>\n",
       "    </tr>\n",
       "    <tr>\n",
       "      <th>4</th>\n",
       "      <td>Argentina</td>\n",
       "      <td>Extraordinary Stories</td>\n",
       "      <td>1</td>\n",
       "    </tr>\n",
       "  </tbody>\n",
       "</table>\n",
       "</div>"
      ],
      "text/plain": [
       "   critic_cn                    movie  count\n",
       "0  Argentina           Spirited Away       2\n",
       "1  Argentina           Adventureland       1\n",
       "2  Argentina                 Boyhood       1\n",
       "3  Argentina                Elephant       1\n",
       "4  Argentina   Extraordinary Stories       1"
      ]
     },
     "execution_count": 22,
     "metadata": {},
     "output_type": "execute_result"
    }
   ],
   "source": [
    "# mapping the countries of the critics with their total votes\n",
    "df1 = df.groupby('critic_cn')['movie'].value_counts().reset_index(name='count')\n",
    "df1.head()"
   ]
  },
  {
   "cell_type": "code",
   "execution_count": 23,
   "metadata": {},
   "outputs": [
    {
     "data": {
      "text/html": [
       "<div>\n",
       "<style scoped>\n",
       "    .dataframe tbody tr th:only-of-type {\n",
       "        vertical-align: middle;\n",
       "    }\n",
       "\n",
       "    .dataframe tbody tr th {\n",
       "        vertical-align: top;\n",
       "    }\n",
       "\n",
       "    .dataframe thead th {\n",
       "        text-align: right;\n",
       "    }\n",
       "</style>\n",
       "<table border=\"1\" class=\"dataframe\">\n",
       "  <thead>\n",
       "    <tr style=\"text-align: right;\">\n",
       "      <th></th>\n",
       "      <th>critic_cn</th>\n",
       "      <th>movie</th>\n",
       "      <th>count</th>\n",
       "      <th>string</th>\n",
       "    </tr>\n",
       "  </thead>\n",
       "  <tbody>\n",
       "    <tr>\n",
       "      <th>0</th>\n",
       "      <td>Argentina</td>\n",
       "      <td>Spirited Away</td>\n",
       "      <td>2</td>\n",
       "      <td>Spirited Away : 2 votes</td>\n",
       "    </tr>\n",
       "    <tr>\n",
       "      <th>1</th>\n",
       "      <td>Argentina</td>\n",
       "      <td>Adventureland</td>\n",
       "      <td>1</td>\n",
       "      <td>Adventureland : 1 vote</td>\n",
       "    </tr>\n",
       "    <tr>\n",
       "      <th>2</th>\n",
       "      <td>Argentina</td>\n",
       "      <td>Boyhood</td>\n",
       "      <td>1</td>\n",
       "      <td>Boyhood : 1 vote</td>\n",
       "    </tr>\n",
       "    <tr>\n",
       "      <th>3</th>\n",
       "      <td>Argentina</td>\n",
       "      <td>Elephant</td>\n",
       "      <td>1</td>\n",
       "      <td>Elephant : 1 vote</td>\n",
       "    </tr>\n",
       "    <tr>\n",
       "      <th>4</th>\n",
       "      <td>Argentina</td>\n",
       "      <td>Extraordinary Stories</td>\n",
       "      <td>1</td>\n",
       "      <td>Extraordinary Stories : 1 vote</td>\n",
       "    </tr>\n",
       "  </tbody>\n",
       "</table>\n",
       "</div>"
      ],
      "text/plain": [
       "   critic_cn                    movie  count                           string\n",
       "0  Argentina           Spirited Away       2          Spirited Away : 2 votes\n",
       "1  Argentina           Adventureland       1           Adventureland : 1 vote\n",
       "2  Argentina                 Boyhood       1                 Boyhood : 1 vote\n",
       "3  Argentina                Elephant       1                Elephant : 1 vote\n",
       "4  Argentina   Extraordinary Stories       1   Extraordinary Stories : 1 vote"
      ]
     },
     "execution_count": 23,
     "metadata": {},
     "output_type": "execute_result"
    }
   ],
   "source": [
    "df1[\"string\"] = df1[\"movie\"] + \": \" + df1[\"count\"].map(str) + np.where(df1[\"count\"]>1, ' votes', ' vote')\n",
    "df1.head()"
   ]
  },
  {
   "cell_type": "code",
   "execution_count": 24,
   "metadata": {},
   "outputs": [
    {
     "data": {
      "text/html": [
       "<div>\n",
       "<style scoped>\n",
       "    .dataframe tbody tr th:only-of-type {\n",
       "        vertical-align: middle;\n",
       "    }\n",
       "\n",
       "    .dataframe tbody tr th {\n",
       "        vertical-align: top;\n",
       "    }\n",
       "\n",
       "    .dataframe thead th {\n",
       "        text-align: right;\n",
       "    }\n",
       "</style>\n",
       "<table border=\"1\" class=\"dataframe\">\n",
       "  <thead>\n",
       "    <tr style=\"text-align: right;\">\n",
       "      <th></th>\n",
       "      <th>critic_cn</th>\n",
       "      <th>properties.article</th>\n",
       "    </tr>\n",
       "  </thead>\n",
       "  <tbody>\n",
       "    <tr>\n",
       "      <th>0</th>\n",
       "      <td>Argentina</td>\n",
       "      <td>&lt;div id='movie'&gt;&lt;P&gt; Spirited Away : 2 votes&lt;/p...</td>\n",
       "    </tr>\n",
       "    <tr>\n",
       "      <th>1</th>\n",
       "      <td>Australia</td>\n",
       "      <td>&lt;div id='movie'&gt;&lt;P&gt; A Separation : 2 votes&lt;/p&gt;...</td>\n",
       "    </tr>\n",
       "    <tr>\n",
       "      <th>2</th>\n",
       "      <td>Austria</td>\n",
       "      <td>&lt;div id='movie'&gt;&lt;P&gt; Platform : 2 votes&lt;/p&gt;&lt;p&gt; ...</td>\n",
       "    </tr>\n",
       "    <tr>\n",
       "      <th>3</th>\n",
       "      <td>Bangladesh</td>\n",
       "      <td>&lt;div id='movie'&gt;&lt;P&gt; A Separation : 1 vote&lt;/p&gt;&lt;...</td>\n",
       "    </tr>\n",
       "    <tr>\n",
       "      <th>4</th>\n",
       "      <td>Belgium</td>\n",
       "      <td>&lt;div id='movie'&gt;&lt;P&gt; Amores Perros : 1 vote&lt;/p&gt;...</td>\n",
       "    </tr>\n",
       "  </tbody>\n",
       "</table>\n",
       "</div>"
      ],
      "text/plain": [
       "    critic_cn                                 properties.article\n",
       "0   Argentina  <div id='movie'><P> Spirited Away : 2 votes</p...\n",
       "1   Australia  <div id='movie'><P> A Separation : 2 votes</p>...\n",
       "2     Austria  <div id='movie'><P> Platform : 2 votes</p><p> ...\n",
       "3  Bangladesh  <div id='movie'><P> A Separation : 1 vote</p><...\n",
       "4     Belgium  <div id='movie'><P> Amores Perros : 1 vote</p>..."
      ]
     },
     "execution_count": 24,
     "metadata": {},
     "output_type": "execute_result"
    }
   ],
   "source": [
    "output = df1.groupby('critic_cn')['string'].apply(lambda x: \"<div id='movie'><P>%s</P></div>\" % '</p><p> '.join(x)).reset_index(name='properties.article')\n",
    "output.head()"
   ]
  },
  {
   "cell_type": "code",
   "execution_count": 25,
   "metadata": {},
   "outputs": [
    {
     "data": {
      "text/html": [
       "<div>\n",
       "<style scoped>\n",
       "    .dataframe tbody tr th:only-of-type {\n",
       "        vertical-align: middle;\n",
       "    }\n",
       "\n",
       "    .dataframe tbody tr th {\n",
       "        vertical-align: top;\n",
       "    }\n",
       "\n",
       "    .dataframe thead th {\n",
       "        text-align: right;\n",
       "    }\n",
       "</style>\n",
       "<table border=\"1\" class=\"dataframe\">\n",
       "  <thead>\n",
       "    <tr style=\"text-align: right;\">\n",
       "      <th></th>\n",
       "      <th>critic_cn</th>\n",
       "      <th>properties.article</th>\n",
       "      <th>properties.headline</th>\n",
       "    </tr>\n",
       "  </thead>\n",
       "  <tbody>\n",
       "    <tr>\n",
       "      <th>0</th>\n",
       "      <td>Argentina</td>\n",
       "      <td>&lt;div id='movie'&gt;&lt;P&gt; Spirited Away : 2 votes&lt;/p...</td>\n",
       "      <td>2</td>\n",
       "    </tr>\n",
       "    <tr>\n",
       "      <th>1</th>\n",
       "      <td>Australia</td>\n",
       "      <td>&lt;div id='movie'&gt;&lt;P&gt; A Separation : 2 votes&lt;/p&gt;...</td>\n",
       "      <td>4</td>\n",
       "    </tr>\n",
       "    <tr>\n",
       "      <th>2</th>\n",
       "      <td>Austria</td>\n",
       "      <td>&lt;div id='movie'&gt;&lt;P&gt; Platform : 2 votes&lt;/p&gt;&lt;p&gt; ...</td>\n",
       "      <td>2</td>\n",
       "    </tr>\n",
       "    <tr>\n",
       "      <th>3</th>\n",
       "      <td>Bangladesh</td>\n",
       "      <td>&lt;div id='movie'&gt;&lt;P&gt; A Separation : 1 vote&lt;/p&gt;&lt;...</td>\n",
       "      <td>1</td>\n",
       "    </tr>\n",
       "    <tr>\n",
       "      <th>4</th>\n",
       "      <td>Belgium</td>\n",
       "      <td>&lt;div id='movie'&gt;&lt;P&gt; Amores Perros : 1 vote&lt;/p&gt;...</td>\n",
       "      <td>1</td>\n",
       "    </tr>\n",
       "  </tbody>\n",
       "</table>\n",
       "</div>"
      ],
      "text/plain": [
       "    critic_cn                                 properties.article  \\\n",
       "0   Argentina  <div id='movie'><P> Spirited Away : 2 votes</p...   \n",
       "1   Australia  <div id='movie'><P> A Separation : 2 votes</p>...   \n",
       "2     Austria  <div id='movie'><P> Platform : 2 votes</p><p> ...   \n",
       "3  Bangladesh  <div id='movie'><P> A Separation : 1 vote</p><...   \n",
       "4     Belgium  <div id='movie'><P> Amores Perros : 1 vote</p>...   \n",
       "\n",
       "   properties.headline  \n",
       "0                    2  \n",
       "1                    4  \n",
       "2                    2  \n",
       "3                    1  \n",
       "4                    1  "
      ]
     },
     "execution_count": 25,
     "metadata": {},
     "output_type": "execute_result"
    }
   ],
   "source": [
    "critics = df.groupby('critic_cn')['critic'].nunique().reset_index(name='properties.headline')\n",
    "output = output.merge(critics, how='left', on='critic_cn')\n",
    "output.head()"
   ]
  },
  {
   "cell_type": "code",
   "execution_count": 26,
   "metadata": {},
   "outputs": [
    {
     "data": {
      "text/html": [
       "<div>\n",
       "<style scoped>\n",
       "    .dataframe tbody tr th:only-of-type {\n",
       "        vertical-align: middle;\n",
       "    }\n",
       "\n",
       "    .dataframe tbody tr th {\n",
       "        vertical-align: top;\n",
       "    }\n",
       "\n",
       "    .dataframe thead th {\n",
       "        text-align: right;\n",
       "    }\n",
       "</style>\n",
       "<table border=\"1\" class=\"dataframe\">\n",
       "  <thead>\n",
       "    <tr style=\"text-align: right;\">\n",
       "      <th></th>\n",
       "      <th>critic_cn</th>\n",
       "      <th>properties.article</th>\n",
       "      <th>properties.headline</th>\n",
       "    </tr>\n",
       "  </thead>\n",
       "  <tbody>\n",
       "    <tr>\n",
       "      <th>0</th>\n",
       "      <td>Argentina</td>\n",
       "      <td>&lt;div id='movie'&gt;&lt;P&gt; Spirited Away : 2 votes&lt;/p...</td>\n",
       "      <td>2 critic</td>\n",
       "    </tr>\n",
       "    <tr>\n",
       "      <th>1</th>\n",
       "      <td>Australia</td>\n",
       "      <td>&lt;div id='movie'&gt;&lt;P&gt; A Separation : 2 votes&lt;/p&gt;...</td>\n",
       "      <td>4 critic</td>\n",
       "    </tr>\n",
       "    <tr>\n",
       "      <th>2</th>\n",
       "      <td>Austria</td>\n",
       "      <td>&lt;div id='movie'&gt;&lt;P&gt; Platform : 2 votes&lt;/p&gt;&lt;p&gt; ...</td>\n",
       "      <td>2 critic</td>\n",
       "    </tr>\n",
       "    <tr>\n",
       "      <th>3</th>\n",
       "      <td>Bangladesh</td>\n",
       "      <td>&lt;div id='movie'&gt;&lt;P&gt; A Separation : 1 vote&lt;/p&gt;&lt;...</td>\n",
       "      <td>1 critic</td>\n",
       "    </tr>\n",
       "    <tr>\n",
       "      <th>4</th>\n",
       "      <td>Belgium</td>\n",
       "      <td>&lt;div id='movie'&gt;&lt;P&gt; Amores Perros : 1 vote&lt;/p&gt;...</td>\n",
       "      <td>1 critic</td>\n",
       "    </tr>\n",
       "  </tbody>\n",
       "</table>\n",
       "</div>"
      ],
      "text/plain": [
       "    critic_cn                                 properties.article  \\\n",
       "0   Argentina  <div id='movie'><P> Spirited Away : 2 votes</p...   \n",
       "1   Australia  <div id='movie'><P> A Separation : 2 votes</p>...   \n",
       "2     Austria  <div id='movie'><P> Platform : 2 votes</p><p> ...   \n",
       "3  Bangladesh  <div id='movie'><P> A Separation : 1 vote</p><...   \n",
       "4     Belgium  <div id='movie'><P> Amores Perros : 1 vote</p>...   \n",
       "\n",
       "  properties.headline  \n",
       "0            2 critic  \n",
       "1            4 critic  \n",
       "2            2 critic  \n",
       "3            1 critic  \n",
       "4            1 critic  "
      ]
     },
     "execution_count": 26,
     "metadata": {},
     "output_type": "execute_result"
    }
   ],
   "source": [
    "output['properties.headline'] = output['properties.headline'].map(str) + \" critic\"\n",
    "output.head()"
   ]
  },
  {
   "cell_type": "code",
   "execution_count": 27,
   "metadata": {},
   "outputs": [
    {
     "data": {
      "text/html": [
       "<div>\n",
       "<style scoped>\n",
       "    .dataframe tbody tr th:only-of-type {\n",
       "        vertical-align: middle;\n",
       "    }\n",
       "\n",
       "    .dataframe tbody tr th {\n",
       "        vertical-align: top;\n",
       "    }\n",
       "\n",
       "    .dataframe thead th {\n",
       "        text-align: right;\n",
       "    }\n",
       "</style>\n",
       "<table border=\"1\" class=\"dataframe\">\n",
       "  <thead>\n",
       "    <tr style=\"text-align: right;\">\n",
       "      <th></th>\n",
       "      <th>critic_cn</th>\n",
       "      <th>properties.article</th>\n",
       "      <th>properties.headline</th>\n",
       "      <th>properties.color</th>\n",
       "    </tr>\n",
       "  </thead>\n",
       "  <tbody>\n",
       "    <tr>\n",
       "      <th>0</th>\n",
       "      <td>Argentina</td>\n",
       "      <td>&lt;div id='movie'&gt;&lt;P&gt; Spirited Away : 2 votes&lt;/p...</td>\n",
       "      <td>2 critic</td>\n",
       "      <td>#000066</td>\n",
       "    </tr>\n",
       "    <tr>\n",
       "      <th>1</th>\n",
       "      <td>Australia</td>\n",
       "      <td>&lt;div id='movie'&gt;&lt;P&gt; A Separation : 2 votes&lt;/p&gt;...</td>\n",
       "      <td>4 critic</td>\n",
       "      <td>#000066</td>\n",
       "    </tr>\n",
       "    <tr>\n",
       "      <th>2</th>\n",
       "      <td>Austria</td>\n",
       "      <td>&lt;div id='movie'&gt;&lt;P&gt; Platform : 2 votes&lt;/p&gt;&lt;p&gt; ...</td>\n",
       "      <td>2 critic</td>\n",
       "      <td>#000066</td>\n",
       "    </tr>\n",
       "    <tr>\n",
       "      <th>3</th>\n",
       "      <td>Bangladesh</td>\n",
       "      <td>&lt;div id='movie'&gt;&lt;P&gt; A Separation : 1 vote&lt;/p&gt;&lt;...</td>\n",
       "      <td>1 critic</td>\n",
       "      <td>#000066</td>\n",
       "    </tr>\n",
       "    <tr>\n",
       "      <th>4</th>\n",
       "      <td>Belgium</td>\n",
       "      <td>&lt;div id='movie'&gt;&lt;P&gt; Amores Perros : 1 vote&lt;/p&gt;...</td>\n",
       "      <td>1 critic</td>\n",
       "      <td>#000066</td>\n",
       "    </tr>\n",
       "  </tbody>\n",
       "</table>\n",
       "</div>"
      ],
      "text/plain": [
       "    critic_cn                                 properties.article  \\\n",
       "0   Argentina  <div id='movie'><P> Spirited Away : 2 votes</p...   \n",
       "1   Australia  <div id='movie'><P> A Separation : 2 votes</p>...   \n",
       "2     Austria  <div id='movie'><P> Platform : 2 votes</p><p> ...   \n",
       "3  Bangladesh  <div id='movie'><P> A Separation : 1 vote</p><...   \n",
       "4     Belgium  <div id='movie'><P> Amores Perros : 1 vote</p>...   \n",
       "\n",
       "  properties.headline properties.color  \n",
       "0            2 critic          #000066  \n",
       "1            4 critic          #000066  \n",
       "2            2 critic          #000066  \n",
       "3            1 critic          #000066  \n",
       "4            1 critic          #000066  "
      ]
     },
     "execution_count": 27,
     "metadata": {},
     "output_type": "execute_result"
    }
   ],
   "source": [
    "output['properties.color'] = \"#000066\"\n",
    "output.head()"
   ]
  },
  {
   "cell_type": "code",
   "execution_count": 28,
   "metadata": {},
   "outputs": [],
   "source": [
    "with open('country_shapes.json') as json_data:\n",
    "    geometry_data = json.load(json_data)"
   ]
  },
  {
   "cell_type": "code",
   "execution_count": 29,
   "metadata": {},
   "outputs": [
    {
     "data": {
      "text/html": [
       "<div>\n",
       "<style scoped>\n",
       "    .dataframe tbody tr th:only-of-type {\n",
       "        vertical-align: middle;\n",
       "    }\n",
       "\n",
       "    .dataframe tbody tr th {\n",
       "        vertical-align: top;\n",
       "    }\n",
       "\n",
       "    .dataframe thead th {\n",
       "        text-align: right;\n",
       "    }\n",
       "</style>\n",
       "<table border=\"1\" class=\"dataframe\">\n",
       "  <thead>\n",
       "    <tr style=\"text-align: right;\">\n",
       "      <th></th>\n",
       "      <th>geometry.coordinates</th>\n",
       "      <th>geometry.type</th>\n",
       "      <th>properties.abbrev</th>\n",
       "      <th>properties.abbrev_len</th>\n",
       "      <th>properties.adm0_a3</th>\n",
       "      <th>properties.adm0_a3_is</th>\n",
       "      <th>properties.adm0_a3_un</th>\n",
       "      <th>properties.adm0_a3_us</th>\n",
       "      <th>properties.adm0_a3_wb</th>\n",
       "      <th>properties.adm0_dif</th>\n",
       "      <th>...</th>\n",
       "      <th>properties.subregion</th>\n",
       "      <th>properties.subunit</th>\n",
       "      <th>properties.tiny</th>\n",
       "      <th>properties.type</th>\n",
       "      <th>properties.un_a3</th>\n",
       "      <th>properties.wb_a2</th>\n",
       "      <th>properties.wb_a3</th>\n",
       "      <th>properties.wikipedia</th>\n",
       "      <th>properties.woe_id</th>\n",
       "      <th>type</th>\n",
       "    </tr>\n",
       "  </thead>\n",
       "  <tbody>\n",
       "    <tr>\n",
       "      <th>0</th>\n",
       "      <td>[[[[-77.53466, 23.75975], [-77.78, 23.71], [-7...</td>\n",
       "      <td>MultiPolygon</td>\n",
       "      <td>Bhs.</td>\n",
       "      <td>4</td>\n",
       "      <td>BHS</td>\n",
       "      <td>BHS</td>\n",
       "      <td>-99</td>\n",
       "      <td>BHS</td>\n",
       "      <td>-99</td>\n",
       "      <td>0</td>\n",
       "      <td>...</td>\n",
       "      <td>Caribbean</td>\n",
       "      <td>The Bahamas</td>\n",
       "      <td>-99</td>\n",
       "      <td>Sovereign country</td>\n",
       "      <td>044</td>\n",
       "      <td>BS</td>\n",
       "      <td>BHS</td>\n",
       "      <td>-99</td>\n",
       "      <td>-99</td>\n",
       "      <td>Feature</td>\n",
       "    </tr>\n",
       "    <tr>\n",
       "      <th>1</th>\n",
       "      <td>[[[[-63.6645, 46.55001], [-62.9393, 46.41587],...</td>\n",
       "      <td>MultiPolygon</td>\n",
       "      <td>Can.</td>\n",
       "      <td>4</td>\n",
       "      <td>CAN</td>\n",
       "      <td>CAN</td>\n",
       "      <td>-99</td>\n",
       "      <td>CAN</td>\n",
       "      <td>-99</td>\n",
       "      <td>0</td>\n",
       "      <td>...</td>\n",
       "      <td>Northern America</td>\n",
       "      <td>Canada</td>\n",
       "      <td>-99</td>\n",
       "      <td>Sovereign country</td>\n",
       "      <td>124</td>\n",
       "      <td>CA</td>\n",
       "      <td>CAN</td>\n",
       "      <td>-99</td>\n",
       "      <td>-99</td>\n",
       "      <td>Feature</td>\n",
       "    </tr>\n",
       "    <tr>\n",
       "      <th>2</th>\n",
       "      <td>[[[-89.14308041050332, 17.80831899664932], [-8...</td>\n",
       "      <td>Polygon</td>\n",
       "      <td>Belize</td>\n",
       "      <td>6</td>\n",
       "      <td>BLZ</td>\n",
       "      <td>BLZ</td>\n",
       "      <td>-99</td>\n",
       "      <td>BLZ</td>\n",
       "      <td>-99</td>\n",
       "      <td>0</td>\n",
       "      <td>...</td>\n",
       "      <td>Central America</td>\n",
       "      <td>Belize</td>\n",
       "      <td>-99</td>\n",
       "      <td>Sovereign country</td>\n",
       "      <td>084</td>\n",
       "      <td>BZ</td>\n",
       "      <td>BLZ</td>\n",
       "      <td>-99</td>\n",
       "      <td>-99</td>\n",
       "      <td>Feature</td>\n",
       "    </tr>\n",
       "    <tr>\n",
       "      <th>3</th>\n",
       "      <td>[[[-82.96578304719736, 8.225027980985985], [-8...</td>\n",
       "      <td>Polygon</td>\n",
       "      <td>C.R.</td>\n",
       "      <td>4</td>\n",
       "      <td>CRI</td>\n",
       "      <td>CRI</td>\n",
       "      <td>-99</td>\n",
       "      <td>CRI</td>\n",
       "      <td>-99</td>\n",
       "      <td>0</td>\n",
       "      <td>...</td>\n",
       "      <td>Central America</td>\n",
       "      <td>Costa Rica</td>\n",
       "      <td>-99</td>\n",
       "      <td>Sovereign country</td>\n",
       "      <td>188</td>\n",
       "      <td>CR</td>\n",
       "      <td>CRI</td>\n",
       "      <td>-99</td>\n",
       "      <td>-99</td>\n",
       "      <td>Feature</td>\n",
       "    </tr>\n",
       "    <tr>\n",
       "      <th>4</th>\n",
       "      <td>[[[-71.71236141629296, 19.714455878167357], [-...</td>\n",
       "      <td>Polygon</td>\n",
       "      <td>Dom. Rep.</td>\n",
       "      <td>9</td>\n",
       "      <td>DOM</td>\n",
       "      <td>DOM</td>\n",
       "      <td>-99</td>\n",
       "      <td>DOM</td>\n",
       "      <td>-99</td>\n",
       "      <td>0</td>\n",
       "      <td>...</td>\n",
       "      <td>Caribbean</td>\n",
       "      <td>Dominican Republic</td>\n",
       "      <td>-99</td>\n",
       "      <td>Sovereign country</td>\n",
       "      <td>214</td>\n",
       "      <td>DO</td>\n",
       "      <td>DOM</td>\n",
       "      <td>-99</td>\n",
       "      <td>-99</td>\n",
       "      <td>Feature</td>\n",
       "    </tr>\n",
       "  </tbody>\n",
       "</table>\n",
       "<p>5 rows × 67 columns</p>\n",
       "</div>"
      ],
      "text/plain": [
       "                                geometry.coordinates geometry.type  \\\n",
       "0  [[[[-77.53466, 23.75975], [-77.78, 23.71], [-7...  MultiPolygon   \n",
       "1  [[[[-63.6645, 46.55001], [-62.9393, 46.41587],...  MultiPolygon   \n",
       "2  [[[-89.14308041050332, 17.80831899664932], [-8...       Polygon   \n",
       "3  [[[-82.96578304719736, 8.225027980985985], [-8...       Polygon   \n",
       "4  [[[-71.71236141629296, 19.714455878167357], [-...       Polygon   \n",
       "\n",
       "  properties.abbrev  properties.abbrev_len properties.adm0_a3  \\\n",
       "0              Bhs.                      4                BHS   \n",
       "1              Can.                      4                CAN   \n",
       "2            Belize                      6                BLZ   \n",
       "3              C.R.                      4                CRI   \n",
       "4         Dom. Rep.                      9                DOM   \n",
       "\n",
       "  properties.adm0_a3_is  properties.adm0_a3_un properties.adm0_a3_us  \\\n",
       "0                   BHS                    -99                   BHS   \n",
       "1                   CAN                    -99                   CAN   \n",
       "2                   BLZ                    -99                   BLZ   \n",
       "3                   CRI                    -99                   CRI   \n",
       "4                   DOM                    -99                   DOM   \n",
       "\n",
       "   properties.adm0_a3_wb  properties.adm0_dif  ... properties.subregion  \\\n",
       "0                    -99                    0  ...            Caribbean   \n",
       "1                    -99                    0  ...     Northern America   \n",
       "2                    -99                    0  ...      Central America   \n",
       "3                    -99                    0  ...      Central America   \n",
       "4                    -99                    0  ...            Caribbean   \n",
       "\n",
       "   properties.subunit  properties.tiny    properties.type properties.un_a3  \\\n",
       "0         The Bahamas              -99  Sovereign country              044   \n",
       "1              Canada              -99  Sovereign country              124   \n",
       "2              Belize              -99  Sovereign country              084   \n",
       "3          Costa Rica              -99  Sovereign country              188   \n",
       "4  Dominican Republic              -99  Sovereign country              214   \n",
       "\n",
       "  properties.wb_a2 properties.wb_a3 properties.wikipedia properties.woe_id  \\\n",
       "0               BS              BHS                  -99               -99   \n",
       "1               CA              CAN                  -99               -99   \n",
       "2               BZ              BLZ                  -99               -99   \n",
       "3               CR              CRI                  -99               -99   \n",
       "4               DO              DOM                  -99               -99   \n",
       "\n",
       "      type  \n",
       "0  Feature  \n",
       "1  Feature  \n",
       "2  Feature  \n",
       "3  Feature  \n",
       "4  Feature  \n",
       "\n",
       "[5 rows x 67 columns]"
      ]
     },
     "execution_count": 29,
     "metadata": {},
     "output_type": "execute_result"
    }
   ],
   "source": [
    "df2 = pd.DataFrame.from_dict(json_normalize(geometry_data['features']), orient='columns')\n",
    "df2.head()"
   ]
  },
  {
   "cell_type": "code",
   "execution_count": 30,
   "metadata": {},
   "outputs": [
    {
     "data": {
      "text/plain": [
       "0           The Bahamas\n",
       "1                Canada\n",
       "2                Belize\n",
       "3            Costa Rica\n",
       "4    Dominican Republic\n",
       "Name: properties.subunit, dtype: object"
      ]
     },
     "execution_count": 30,
     "metadata": {},
     "output_type": "execute_result"
    }
   ],
   "source": [
    "df2['properties.subunit'].head()"
   ]
  },
  {
   "cell_type": "code",
   "execution_count": 31,
   "metadata": {},
   "outputs": [
    {
     "data": {
      "text/html": [
       "<div>\n",
       "<style scoped>\n",
       "    .dataframe tbody tr th:only-of-type {\n",
       "        vertical-align: middle;\n",
       "    }\n",
       "\n",
       "    .dataframe tbody tr th {\n",
       "        vertical-align: top;\n",
       "    }\n",
       "\n",
       "    .dataframe thead th {\n",
       "        text-align: right;\n",
       "    }\n",
       "</style>\n",
       "<table border=\"1\" class=\"dataframe\">\n",
       "  <thead>\n",
       "    <tr style=\"text-align: right;\">\n",
       "      <th></th>\n",
       "      <th>geometry.coordinates</th>\n",
       "      <th>geometry.type</th>\n",
       "      <th>properties.continent</th>\n",
       "      <th>properties.subunit</th>\n",
       "    </tr>\n",
       "  </thead>\n",
       "  <tbody>\n",
       "    <tr>\n",
       "      <th>0</th>\n",
       "      <td>[[[[-77.53466, 23.75975], [-77.78, 23.71], [-7...</td>\n",
       "      <td>MultiPolygon</td>\n",
       "      <td>North America</td>\n",
       "      <td>The Bahamas</td>\n",
       "    </tr>\n",
       "    <tr>\n",
       "      <th>1</th>\n",
       "      <td>[[[[-63.6645, 46.55001], [-62.9393, 46.41587],...</td>\n",
       "      <td>MultiPolygon</td>\n",
       "      <td>North America</td>\n",
       "      <td>Canada</td>\n",
       "    </tr>\n",
       "    <tr>\n",
       "      <th>2</th>\n",
       "      <td>[[[-89.14308041050332, 17.80831899664932], [-8...</td>\n",
       "      <td>Polygon</td>\n",
       "      <td>North America</td>\n",
       "      <td>Belize</td>\n",
       "    </tr>\n",
       "    <tr>\n",
       "      <th>3</th>\n",
       "      <td>[[[-82.96578304719736, 8.225027980985985], [-8...</td>\n",
       "      <td>Polygon</td>\n",
       "      <td>North America</td>\n",
       "      <td>Costa Rica</td>\n",
       "    </tr>\n",
       "    <tr>\n",
       "      <th>4</th>\n",
       "      <td>[[[-71.71236141629296, 19.714455878167357], [-...</td>\n",
       "      <td>Polygon</td>\n",
       "      <td>North America</td>\n",
       "      <td>Dominican Republic</td>\n",
       "    </tr>\n",
       "  </tbody>\n",
       "</table>\n",
       "</div>"
      ],
      "text/plain": [
       "                                geometry.coordinates geometry.type  \\\n",
       "0  [[[[-77.53466, 23.75975], [-77.78, 23.71], [-7...  MultiPolygon   \n",
       "1  [[[[-63.6645, 46.55001], [-62.9393, 46.41587],...  MultiPolygon   \n",
       "2  [[[-89.14308041050332, 17.80831899664932], [-8...       Polygon   \n",
       "3  [[[-82.96578304719736, 8.225027980985985], [-8...       Polygon   \n",
       "4  [[[-71.71236141629296, 19.714455878167357], [-...       Polygon   \n",
       "\n",
       "  properties.continent  properties.subunit  \n",
       "0        North America         The Bahamas  \n",
       "1        North America              Canada  \n",
       "2        North America              Belize  \n",
       "3        North America          Costa Rica  \n",
       "4        North America  Dominican Republic  "
      ]
     },
     "execution_count": 31,
     "metadata": {},
     "output_type": "execute_result"
    }
   ],
   "source": [
    "better_geo = df2[['geometry.coordinates','geometry.type','properties.continent','properties.subunit']]\n",
    "better_geo.head()"
   ]
  },
  {
   "cell_type": "code",
   "execution_count": 32,
   "metadata": {},
   "outputs": [
    {
     "name": "stderr",
     "output_type": "stream",
     "text": [
      "/Users/chikezieomeje/.pyenv/versions/3.6.5/lib/python3.6/site-packages/ipykernel_launcher.py:1: SettingWithCopyWarning: \n",
      "A value is trying to be set on a copy of a slice from a DataFrame.\n",
      "Try using .loc[row_indexer,col_indexer] = value instead\n",
      "\n",
      "See the caveats in the documentation: http://pandas.pydata.org/pandas-docs/stable/indexing.html#indexing-view-versus-copy\n",
      "  \"\"\"Entry point for launching an IPython kernel.\n",
      "/Users/chikezieomeje/.pyenv/versions/3.6.5/lib/python3.6/site-packages/ipykernel_launcher.py:2: SettingWithCopyWarning: \n",
      "A value is trying to be set on a copy of a slice from a DataFrame.\n",
      "Try using .loc[row_indexer,col_indexer] = value instead\n",
      "\n",
      "See the caveats in the documentation: http://pandas.pydata.org/pandas-docs/stable/indexing.html#indexing-view-versus-copy\n",
      "  \n",
      "/Users/chikezieomeje/.pyenv/versions/3.6.5/lib/python3.6/site-packages/ipykernel_launcher.py:3: SettingWithCopyWarning: \n",
      "A value is trying to be set on a copy of a slice from a DataFrame.\n",
      "Try using .loc[row_indexer,col_indexer] = value instead\n",
      "\n",
      "See the caveats in the documentation: http://pandas.pydata.org/pandas-docs/stable/indexing.html#indexing-view-versus-copy\n",
      "  This is separate from the ipykernel package so we can avoid doing imports until\n"
     ]
    }
   ],
   "source": [
    "better_geo['properties.subunit'] = better_geo['properties.subunit'].str.replace('United States of America', 'US')\n",
    "better_geo['properties.subunit'] = better_geo['properties.subunit'].str.replace('United Kingdom', 'UK')\n",
    "better_geo['properties.subunit'] = better_geo['properties.subunit'].str.replace('United Arab Emirates', 'UAE')"
   ]
  },
  {
   "cell_type": "code",
   "execution_count": 33,
   "metadata": {},
   "outputs": [
    {
     "data": {
      "text/html": [
       "<div>\n",
       "<style scoped>\n",
       "    .dataframe tbody tr th:only-of-type {\n",
       "        vertical-align: middle;\n",
       "    }\n",
       "\n",
       "    .dataframe tbody tr th {\n",
       "        vertical-align: top;\n",
       "    }\n",
       "\n",
       "    .dataframe thead th {\n",
       "        text-align: right;\n",
       "    }\n",
       "</style>\n",
       "<table border=\"1\" class=\"dataframe\">\n",
       "  <thead>\n",
       "    <tr style=\"text-align: right;\">\n",
       "      <th></th>\n",
       "      <th>critic_cn</th>\n",
       "      <th>properties.article</th>\n",
       "      <th>properties.headline</th>\n",
       "      <th>properties.color</th>\n",
       "      <th>geometry.coordinates</th>\n",
       "      <th>geometry.type</th>\n",
       "      <th>properties.subunit</th>\n",
       "    </tr>\n",
       "  </thead>\n",
       "  <tbody>\n",
       "    <tr>\n",
       "      <th>0</th>\n",
       "      <td>Argentina</td>\n",
       "      <td>&lt;div id='movie'&gt;&lt;P&gt; Spirited Away : 2 votes&lt;/p...</td>\n",
       "      <td>2 critic</td>\n",
       "      <td>#000066</td>\n",
       "      <td>[[[[-65.5, -55.2], [-66.45, -55.25], [-66.9599...</td>\n",
       "      <td>MultiPolygon</td>\n",
       "      <td>Argentina</td>\n",
       "    </tr>\n",
       "    <tr>\n",
       "      <th>1</th>\n",
       "      <td>Australia</td>\n",
       "      <td>&lt;div id='movie'&gt;&lt;P&gt; A Separation : 2 votes&lt;/p&gt;...</td>\n",
       "      <td>4 critic</td>\n",
       "      <td>#000066</td>\n",
       "      <td>[[[[145.39797814349484, -40.79254851660589], [...</td>\n",
       "      <td>MultiPolygon</td>\n",
       "      <td>Australia</td>\n",
       "    </tr>\n",
       "    <tr>\n",
       "      <th>2</th>\n",
       "      <td>Austria</td>\n",
       "      <td>&lt;div id='movie'&gt;&lt;P&gt; Platform : 2 votes&lt;/p&gt;&lt;p&gt; ...</td>\n",
       "      <td>2 critic</td>\n",
       "      <td>#000066</td>\n",
       "      <td>[[[16.979666782304037, 48.123497015976305], [1...</td>\n",
       "      <td>Polygon</td>\n",
       "      <td>Austria</td>\n",
       "    </tr>\n",
       "    <tr>\n",
       "      <th>3</th>\n",
       "      <td>Bangladesh</td>\n",
       "      <td>&lt;div id='movie'&gt;&lt;P&gt; A Separation : 1 vote&lt;/p&gt;&lt;...</td>\n",
       "      <td>1 critic</td>\n",
       "      <td>#000066</td>\n",
       "      <td>[[[92.67272098182556, 22.041238918541254], [92...</td>\n",
       "      <td>Polygon</td>\n",
       "      <td>Bangladesh</td>\n",
       "    </tr>\n",
       "    <tr>\n",
       "      <th>4</th>\n",
       "      <td>Belgium</td>\n",
       "      <td>&lt;div id='movie'&gt;&lt;P&gt; Amores Perros : 1 vote&lt;/p&gt;...</td>\n",
       "      <td>1 critic</td>\n",
       "      <td>#000066</td>\n",
       "      <td>[[[3.314971144228537, 51.345780951536085], [4....</td>\n",
       "      <td>Polygon</td>\n",
       "      <td>Belgium</td>\n",
       "    </tr>\n",
       "  </tbody>\n",
       "</table>\n",
       "</div>"
      ],
      "text/plain": [
       "    critic_cn                                 properties.article  \\\n",
       "0   Argentina  <div id='movie'><P> Spirited Away : 2 votes</p...   \n",
       "1   Australia  <div id='movie'><P> A Separation : 2 votes</p>...   \n",
       "2     Austria  <div id='movie'><P> Platform : 2 votes</p><p> ...   \n",
       "3  Bangladesh  <div id='movie'><P> A Separation : 1 vote</p><...   \n",
       "4     Belgium  <div id='movie'><P> Amores Perros : 1 vote</p>...   \n",
       "\n",
       "  properties.headline properties.color  \\\n",
       "0            2 critic          #000066   \n",
       "1            4 critic          #000066   \n",
       "2            2 critic          #000066   \n",
       "3            1 critic          #000066   \n",
       "4            1 critic          #000066   \n",
       "\n",
       "                                geometry.coordinates geometry.type  \\\n",
       "0  [[[[-65.5, -55.2], [-66.45, -55.25], [-66.9599...  MultiPolygon   \n",
       "1  [[[[145.39797814349484, -40.79254851660589], [...  MultiPolygon   \n",
       "2  [[[16.979666782304037, 48.123497015976305], [1...       Polygon   \n",
       "3  [[[92.67272098182556, 22.041238918541254], [92...       Polygon   \n",
       "4  [[[3.314971144228537, 51.345780951536085], [4....       Polygon   \n",
       "\n",
       "  properties.subunit  \n",
       "0          Argentina  \n",
       "1          Australia  \n",
       "2            Austria  \n",
       "3         Bangladesh  \n",
       "4            Belgium  "
      ]
     },
     "execution_count": 33,
     "metadata": {},
     "output_type": "execute_result"
    }
   ],
   "source": [
    "output_complete = pd.merge(output, better_geo[['geometry.coordinates','geometry.type','properties.subunit']], left_on='critic_cn', right_on='properties.subunit', how='left')\n",
    "output_complete.head()"
   ]
  },
  {
   "cell_type": "code",
   "execution_count": 34,
   "metadata": {},
   "outputs": [
    {
     "data": {
      "text/plain": [
       "critic_cn               0\n",
       "properties.article      0\n",
       "properties.headline     0\n",
       "properties.color        0\n",
       "geometry.coordinates    2\n",
       "geometry.type           2\n",
       "properties.subunit      2\n",
       "dtype: int64"
      ]
     },
     "execution_count": 34,
     "metadata": {},
     "output_type": "execute_result"
    }
   ],
   "source": [
    "output_complete.isnull().sum(axis =0)"
   ]
  },
  {
   "cell_type": "code",
   "execution_count": 35,
   "metadata": {},
   "outputs": [
    {
     "data": {
      "text/html": [
       "<div>\n",
       "<style scoped>\n",
       "    .dataframe tbody tr th:only-of-type {\n",
       "        vertical-align: middle;\n",
       "    }\n",
       "\n",
       "    .dataframe tbody tr th {\n",
       "        vertical-align: top;\n",
       "    }\n",
       "\n",
       "    .dataframe thead th {\n",
       "        text-align: right;\n",
       "    }\n",
       "</style>\n",
       "<table border=\"1\" class=\"dataframe\">\n",
       "  <thead>\n",
       "    <tr style=\"text-align: right;\">\n",
       "      <th></th>\n",
       "      <th>critic_cn</th>\n",
       "      <th>properties.article</th>\n",
       "      <th>properties.headline</th>\n",
       "      <th>properties.color</th>\n",
       "      <th>geometry.coordinates</th>\n",
       "      <th>geometry.type</th>\n",
       "      <th>properties.subunit</th>\n",
       "    </tr>\n",
       "  </thead>\n",
       "  <tbody>\n",
       "    <tr>\n",
       "      <th>14</th>\n",
       "      <td>Hong Kong</td>\n",
       "      <td>&lt;div id='movie'&gt;&lt;P&gt; 35 Shots of Rum : 1 vote&lt;/...</td>\n",
       "      <td>1 critic</td>\n",
       "      <td>#000066</td>\n",
       "      <td>NaN</td>\n",
       "      <td>NaN</td>\n",
       "      <td>NaN</td>\n",
       "    </tr>\n",
       "    <tr>\n",
       "      <th>27</th>\n",
       "      <td>Singapore</td>\n",
       "      <td>&lt;div id='movie'&gt;&lt;P&gt; A Girl Walks Home Alone at...</td>\n",
       "      <td>2 critic</td>\n",
       "      <td>#000066</td>\n",
       "      <td>NaN</td>\n",
       "      <td>NaN</td>\n",
       "      <td>NaN</td>\n",
       "    </tr>\n",
       "  </tbody>\n",
       "</table>\n",
       "</div>"
      ],
      "text/plain": [
       "    critic_cn                                 properties.article  \\\n",
       "14  Hong Kong  <div id='movie'><P> 35 Shots of Rum : 1 vote</...   \n",
       "27  Singapore  <div id='movie'><P> A Girl Walks Home Alone at...   \n",
       "\n",
       "   properties.headline properties.color geometry.coordinates geometry.type  \\\n",
       "14            1 critic          #000066                  NaN           NaN   \n",
       "27            2 critic          #000066                  NaN           NaN   \n",
       "\n",
       "   properties.subunit  \n",
       "14                NaN  \n",
       "27                NaN  "
      ]
     },
     "execution_count": 35,
     "metadata": {},
     "output_type": "execute_result"
    }
   ],
   "source": [
    "null_data = output_complete[output_complete.isnull().any(axis=1)]\n",
    "null_data"
   ]
  },
  {
   "cell_type": "code",
   "execution_count": 36,
   "metadata": {},
   "outputs": [],
   "source": [
    "output_complete = output_complete.dropna(subset=['geometry.type'])"
   ]
  },
  {
   "cell_type": "code",
   "execution_count": 37,
   "metadata": {},
   "outputs": [],
   "source": [
    "ok_json = json.loads(output_complete.to_json(orient='records'))"
   ]
  },
  {
   "cell_type": "code",
   "execution_count": 38,
   "metadata": {},
   "outputs": [],
   "source": [
    "def process_to_geojson(file):\n",
    "    geo_data = {\"type\": \"FeatureCollection\", \"features\":[]}\n",
    "    for row in file:\n",
    "        this_dict = {\"type\": \"Feature\", \"properties\":{}, \"geometry\": {}}\n",
    "        for key, value in row.items():\n",
    "            key_names = key.split('.')\n",
    "            if key_names[0] == 'geometry':\n",
    "                this_dict['geometry'][key_names[1]] = value\n",
    "            if str(key_names[0]) == 'properties':\n",
    "                this_dict['properties'][key_names[1]] = value\n",
    "        geo_data['features'].append(this_dict)\n",
    "    return geo_data"
   ]
  },
  {
   "cell_type": "code",
   "execution_count": 41,
   "metadata": {},
   "outputs": [],
   "source": [
    "geo_format = process_to_geojson(ok_json)"
   ]
  },
  {
   "cell_type": "code",
   "execution_count": 40,
   "metadata": {},
   "outputs": [],
   "source": [
    "with open('geo-data.js', 'w') as outfile:\n",
    "    outfile.write(\"var infoData = \")\n",
    "#geojson output\n",
    "with open('geo-data.js', 'a') as outfile:\n",
    "    json.dump(geo_format, outfile)"
   ]
  },
  {
   "cell_type": "code",
   "execution_count": null,
   "metadata": {},
   "outputs": [],
   "source": []
  }
 ],
 "metadata": {
  "kernelspec": {
   "display_name": "Python 3",
   "language": "python",
   "name": "python3"
  },
  "language_info": {
   "codemirror_mode": {
    "name": "ipython",
    "version": 3
   },
   "file_extension": ".py",
   "mimetype": "text/x-python",
   "name": "python",
   "nbconvert_exporter": "python",
   "pygments_lexer": "ipython3",
   "version": "3.6.5"
  }
 },
 "nbformat": 4,
 "nbformat_minor": 2
}
